{
 "cells": [
  {
   "cell_type": "code",
   "execution_count": 120,
   "metadata": {},
   "outputs": [
    {
     "name": "stdout",
     "output_type": "stream",
     "text": [
      "Name                  object\n",
      "AI matches played      int64\n",
      "AI wins                int64\n",
      "AI losses              int64\n",
      "AI ties                int64\n",
      "PvP matches played     int64\n",
      "PvP wins               int64\n",
      "PvP losses             int64\n",
      "PvP ties               int64\n",
      "dtype: object\n"
     ]
    },
    {
     "data": {
      "text/html": [
       "<div>\n",
       "<style scoped>\n",
       "    .dataframe tbody tr th:only-of-type {\n",
       "        vertical-align: middle;\n",
       "    }\n",
       "\n",
       "    .dataframe tbody tr th {\n",
       "        vertical-align: top;\n",
       "    }\n",
       "\n",
       "    .dataframe thead th {\n",
       "        text-align: right;\n",
       "    }\n",
       "</style>\n",
       "<table border=\"1\" class=\"dataframe\">\n",
       "  <thead>\n",
       "    <tr style=\"text-align: right;\">\n",
       "      <th></th>\n",
       "      <th>Name</th>\n",
       "      <th>AI matches played</th>\n",
       "      <th>AI wins</th>\n",
       "      <th>AI losses</th>\n",
       "      <th>AI ties</th>\n",
       "      <th>PvP matches played</th>\n",
       "      <th>PvP wins</th>\n",
       "      <th>PvP losses</th>\n",
       "      <th>PvP ties</th>\n",
       "    </tr>\n",
       "  </thead>\n",
       "  <tbody>\n",
       "    <tr>\n",
       "      <th>0</th>\n",
       "      <td>ta</td>\n",
       "      <td>2</td>\n",
       "      <td>0</td>\n",
       "      <td>1</td>\n",
       "      <td>1</td>\n",
       "      <td>2</td>\n",
       "      <td>2</td>\n",
       "      <td>0</td>\n",
       "      <td>0</td>\n",
       "    </tr>\n",
       "    <tr>\n",
       "      <th>1</th>\n",
       "      <td>tb</td>\n",
       "      <td>1</td>\n",
       "      <td>0</td>\n",
       "      <td>0</td>\n",
       "      <td>1</td>\n",
       "      <td>2</td>\n",
       "      <td>0</td>\n",
       "      <td>2</td>\n",
       "      <td>0</td>\n",
       "    </tr>\n",
       "  </tbody>\n",
       "</table>\n",
       "</div>"
      ],
      "text/plain": [
       "  Name  AI matches played  AI wins  AI losses  AI ties  PvP matches played  \\\n",
       "0   ta                  2        0          1        1                   2   \n",
       "1   tb                  1        0          0        1                   2   \n",
       "\n",
       "   PvP wins  PvP losses  PvP ties  \n",
       "0         2           0         0  \n",
       "1         0           2         0  "
      ]
     },
     "execution_count": 120,
     "metadata": {},
     "output_type": "execute_result"
    }
   ],
   "source": [
    "import pandas as pd\n",
    "data=pd.read_csv(\"records.csv\")\n",
    "#data.drop(columns=\"Unnamed: 0\", inplace=True)\n",
    "print(data.dtypes)\n",
    "data"
   ]
  }
 ],
 "metadata": {
  "interpreter": {
   "hash": "283eaf0da603e8d4e595202465488f90ce1cdc41296cc3210c3179ec462ce49e"
  },
  "kernelspec": {
   "display_name": "Python 3.9.1 64-bit",
   "language": "python",
   "name": "python3"
  },
  "language_info": {
   "codemirror_mode": {
    "name": "ipython",
    "version": 3
   },
   "file_extension": ".py",
   "mimetype": "text/x-python",
   "name": "python",
   "nbconvert_exporter": "python",
   "pygments_lexer": "ipython3",
   "version": "3.9.1"
  },
  "orig_nbformat": 4
 },
 "nbformat": 4,
 "nbformat_minor": 2
}
